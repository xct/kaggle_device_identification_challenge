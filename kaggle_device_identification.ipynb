{
 "cells": [
  {
   "cell_type": "markdown",
   "metadata": {
    "colab_type": "text",
    "id": "ejJSoalyHOo_"
   },
   "source": [
    "## Can you predict the type of thousands of IoT and non-IoT devices?\n",
    "\n",
    "\n",
    "https://www.kaggle.com/c/cybersecprague2019-challenge/data"
   ]
  },
  {
   "cell_type": "markdown",
   "metadata": {},
   "source": [
    "### Prepare environment & get dataset\n",
    "\n",
    "* we need mac_vendor_lookup to convert mac addresses into vendor names\n",
    "* we need nltk stopwords for ntltk processing later in the pipeline"
   ]
  },
  {
   "cell_type": "code",
   "execution_count": 1,
   "metadata": {
    "colab": {
     "base_uri": "https://localhost:8080/",
     "height": 255
    },
    "colab_type": "code",
    "executionInfo": {
     "elapsed": 5767,
     "status": "ok",
     "timestamp": 1569789611703,
     "user": {
      "displayName": "Martin Mielke",
      "photoUrl": "https://lh3.googleusercontent.com/a-/AAuE7mD2fVXZXI0vZQRhICA04SWEoz1vyJQjsUfxWPqP=s64",
      "userId": "08124188037398912377"
     },
     "user_tz": -120
    },
    "id": "oH3P6H4xHSzg",
    "outputId": "baf8bc66-fb60-4532-ea39-97fdf95124b5"
   },
   "outputs": [
    {
     "name": "stdout",
     "output_type": "stream",
     "text": [
      "Requirement already satisfied: mac_vendor_lookup in c:\\users\\xct\\anaconda3\\lib\\site-packages (0.1.7)\n",
      "Requirement already satisfied: aiofiles in c:\\users\\xct\\anaconda3\\lib\\site-packages (from mac_vendor_lookup) (0.4.0)\n",
      "Requirement already satisfied: aiohttp in c:\\users\\xct\\anaconda3\\lib\\site-packages (from mac_vendor_lookup) (3.6.1)\n",
      "Requirement already satisfied: multidict<5.0,>=4.5 in c:\\users\\xct\\anaconda3\\lib\\site-packages (from aiohttp->mac_vendor_lookup) (4.5.2)\n",
      "Requirement already satisfied: chardet<4.0,>=2.0 in c:\\users\\xct\\anaconda3\\lib\\site-packages (from aiohttp->mac_vendor_lookup) (3.0.4)\n",
      "Requirement already satisfied: async-timeout<4.0,>=3.0 in c:\\users\\xct\\anaconda3\\lib\\site-packages (from aiohttp->mac_vendor_lookup) (3.0.1)\n",
      "Requirement already satisfied: attrs>=17.3.0 in c:\\users\\xct\\anaconda3\\lib\\site-packages (from aiohttp->mac_vendor_lookup) (19.1.0)\n",
      "Requirement already satisfied: yarl<2.0,>=1.0 in c:\\users\\xct\\anaconda3\\lib\\site-packages (from aiohttp->mac_vendor_lookup) (1.3.0)\n",
      "Requirement already satisfied: idna>=2.0 in c:\\users\\xct\\anaconda3\\lib\\site-packages (from yarl<2.0,>=1.0->aiohttp->mac_vendor_lookup) (2.8)\n"
     ]
    },
    {
     "name": "stderr",
     "output_type": "stream",
     "text": [
      "[nltk_data] Downloading package stopwords to\n",
      "[nltk_data]     C:\\Users\\xct\\AppData\\Roaming\\nltk_data...\n",
      "[nltk_data]   Package stopwords is already up-to-date!\n"
     ]
    },
    {
     "data": {
      "text/plain": [
       "True"
      ]
     },
     "execution_count": 1,
     "metadata": {},
     "output_type": "execute_result"
    }
   ],
   "source": [
    "import nltk\n",
    "!pip install mac_vendor_lookup\n",
    "nltk.download('stopwords')\n",
    "#!wget https://www.dropbox.com/s/redacted/dataset.zip?raw=1 -O dataset.zip\n",
    "#!unzip dataset.zip"
   ]
  },
  {
   "cell_type": "markdown",
   "metadata": {},
   "source": [
    "### Load & prepare dataset"
   ]
  },
  {
   "cell_type": "code",
   "execution_count": 2,
   "metadata": {
    "colab": {},
    "colab_type": "code",
    "id": "r_PUIVtMHOpA"
   },
   "outputs": [],
   "source": [
    "import pandas as pd\n",
    "import numpy as np\n",
    "from pandas.io.json import json_normalize\n",
    "\n",
    "'''\n",
    "Classes:\n",
    "HOME_AUTOMATION    12303\n",
    "PC                  6665\n",
    "MEDIA_BOX           6060\n",
    "TV                  5715\n",
    "IP_PHONE            5193\n",
    "PRINTER             4342\n",
    "AUDIO               3141\n",
    "GENERIC_IOT         2959\n",
    "VOICE_ASSISTANT     2912\n",
    "NAS                 2813\n",
    "GAME_CONSOLE        2384\n",
    "SURVEILLANCE        2037\n",
    "MOBILE              1382\n",
    "'''\n",
    "\n",
    "with open('train.json', 'r') as f:\n",
    "     df = pd.read_json(f.read(), lines=True)"
   ]
  },
  {
   "cell_type": "markdown",
   "metadata": {},
   "source": [
    "Simple Service Discovery Protocol (SSDP). We convert the json object arrays into space separated strings."
   ]
  },
  {
   "cell_type": "code",
   "execution_count": 3,
   "metadata": {
    "colab": {
     "base_uri": "https://localhost:8080/",
     "height": 204
    },
    "colab_type": "code",
    "executionInfo": {
     "elapsed": 110702,
     "status": "ok",
     "timestamp": 1569789716654,
     "user": {
      "displayName": "Martin Mielke",
      "photoUrl": "https://lh3.googleusercontent.com/a-/AAuE7mD2fVXZXI0vZQRhICA04SWEoz1vyJQjsUfxWPqP=s64",
      "userId": "08124188037398912377"
     },
     "user_tz": -120
    },
    "id": "FDGrHul9HOpC",
    "outputId": "8c928b4a-d2c5-4738-d208-ad021bdd3d15"
   },
   "outputs": [
    {
     "data": {
      "text/plain": [
       "device_class     57906\n",
       "device_id        57906\n",
       "dhcp             13505\n",
       "ip               57906\n",
       "mac              57906\n",
       "mdns_services    30880\n",
       "services         53859\n",
       "ssdp             25350\n",
       "upnp             22881\n",
       "ssdp_words       25350\n",
       "dtype: int64"
      ]
     },
     "execution_count": 3,
     "metadata": {},
     "output_type": "execute_result"
    }
   ],
   "source": [
    "data = df\n",
    "\n",
    "def handle_ssdp(x):\n",
    "    d = {}\n",
    "    if type(x) is list:\n",
    "        df = json_normalize(x)   \n",
    "        for index, row in df.iterrows():\n",
    "            nt = row['nt']\n",
    "            loc = row['location']\n",
    "            srv = row['server']            \n",
    "            d['ssdp'] = nt + \" \" + loc + \" \" + srv + \" \"\n",
    "    return d\n",
    "\n",
    "data['ssdp_words'] = pd.DataFrame([handle_ssdp(x) for x in df['ssdp']])\n",
    "data['ssdp_words'] = data['ssdp_words'].replace('', np.nan)\n",
    "data.count()"
   ]
  },
  {
   "cell_type": "markdown",
   "metadata": {},
   "source": [
    "Universal Plug and Play (UPnP). We convert the json object arrays into space separated strings."
   ]
  },
  {
   "cell_type": "code",
   "execution_count": 4,
   "metadata": {
    "colab": {
     "base_uri": "https://localhost:8080/",
     "height": 221
    },
    "colab_type": "code",
    "executionInfo": {
     "elapsed": 145366,
     "status": "ok",
     "timestamp": 1569789751325,
     "user": {
      "displayName": "Martin Mielke",
      "photoUrl": "https://lh3.googleusercontent.com/a-/AAuE7mD2fVXZXI0vZQRhICA04SWEoz1vyJQjsUfxWPqP=s64",
      "userId": "08124188037398912377"
     },
     "user_tz": -120
    },
    "id": "B6OGW_I-HOpE",
    "outputId": "d627e018-fdb1-47e7-ed66-5e6a14d7c068"
   },
   "outputs": [
    {
     "data": {
      "text/plain": [
       "device_class     57906\n",
       "device_id        57906\n",
       "dhcp             13505\n",
       "ip               57906\n",
       "mac              57906\n",
       "mdns_services    30880\n",
       "services         53859\n",
       "ssdp             25350\n",
       "upnp             22881\n",
       "ssdp_words       25350\n",
       "upnp_words       22881\n",
       "dtype: int64"
      ]
     },
     "execution_count": 4,
     "metadata": {},
     "output_type": "execute_result"
    }
   ],
   "source": [
    "def handle_upnp(x):\n",
    "    d = {}\n",
    "    if type(x) is list:\n",
    "        df = json_normalize(x)   \n",
    "        d['upnp'] = ''\n",
    "        for index, row in df.iterrows():\n",
    "            # model_name, model_description, manufacturer, multiple entries of these\n",
    "            name = ''\n",
    "            desc = ''\n",
    "            manu = ''\n",
    "            try:\n",
    "                name = row['model_name']\n",
    "            except KeyError:\n",
    "                pass\n",
    "            try:\n",
    "                desc = row['model_description']\n",
    "            except KeyError:\n",
    "                pass\n",
    "            try:\n",
    "                manu = row['manufacturer']\n",
    "            except KeyError:\n",
    "                pass            \n",
    "            d['upnp'] += str(name)+\" \"\n",
    "            d['upnp'] += str(desc)+\" \"\n",
    "            d['upnp'] += str(manu)+\" \"        \n",
    "    return d\n",
    "\n",
    "data['upnp_words'] = pd.DataFrame([handle_upnp(x) for x in df['upnp']])\n",
    "data['upnp_words'] = data['upnp_words'].replace('', np.nan)\n",
    "data.count()"
   ]
  },
  {
   "cell_type": "markdown",
   "metadata": {},
   "source": [
    "Multicast-DNS (mDNS) . We convert the arrays into space separated strings."
   ]
  },
  {
   "cell_type": "code",
   "execution_count": 5,
   "metadata": {
    "colab": {
     "base_uri": "https://localhost:8080/",
     "height": 238
    },
    "colab_type": "code",
    "executionInfo": {
     "elapsed": 145357,
     "status": "ok",
     "timestamp": 1569789751325,
     "user": {
      "displayName": "Martin Mielke",
      "photoUrl": "https://lh3.googleusercontent.com/a-/AAuE7mD2fVXZXI0vZQRhICA04SWEoz1vyJQjsUfxWPqP=s64",
      "userId": "08124188037398912377"
     },
     "user_tz": -120
    },
    "id": "K4xY0HLLHOpG",
    "outputId": "415db8c6-3a6b-418e-8b35-9bea40f4459c"
   },
   "outputs": [
    {
     "data": {
      "text/plain": [
       "device_class     57906\n",
       "device_id        57906\n",
       "dhcp             13505\n",
       "ip               57906\n",
       "mac              57906\n",
       "mdns_services    30880\n",
       "services         53859\n",
       "ssdp             25350\n",
       "upnp             22881\n",
       "ssdp_words       25350\n",
       "upnp_words       22881\n",
       "mdns_words       30880\n",
       "dtype: int64"
      ]
     },
     "execution_count": 5,
     "metadata": {},
     "output_type": "execute_result"
    }
   ],
   "source": [
    "def handle_mdns(x):\n",
    "    d = {}   \n",
    "    if type(x) is list:        \n",
    "        d['mdns'] = ''\n",
    "        for name in x:\n",
    "            d['mdns'] += name.replace(\"_\",\" \").replace(\".\",\" \")\n",
    "    return d\n",
    "\n",
    "data['mdns_words'] = pd.DataFrame([handle_mdns(x) for x in df['mdns_services']])\n",
    "data['mdns_words'] = data['mdns_words'].replace('', np.nan)\n",
    "data.count()"
   ]
  },
  {
   "cell_type": "markdown",
   "metadata": {},
   "source": [
    "MAC Addresses. These encode vendor information in the first 3 bytes, so we use the MacLookup library to get the vendor names from the mac addresses."
   ]
  },
  {
   "cell_type": "code",
   "execution_count": 6,
   "metadata": {
    "colab": {
     "base_uri": "https://localhost:8080/",
     "height": 255
    },
    "colab_type": "code",
    "executionInfo": {
     "elapsed": 148736,
     "status": "ok",
     "timestamp": 1569789754712,
     "user": {
      "displayName": "Martin Mielke",
      "photoUrl": "https://lh3.googleusercontent.com/a-/AAuE7mD2fVXZXI0vZQRhICA04SWEoz1vyJQjsUfxWPqP=s64",
      "userId": "08124188037398912377"
     },
     "user_tz": -120
    },
    "id": "tkoNbimlHOpI",
    "outputId": "40cc1e0e-f1c4-4157-a4af-3ff3982dcd96"
   },
   "outputs": [
    {
     "data": {
      "text/plain": [
       "device_class     57906\n",
       "device_id        57906\n",
       "dhcp             13505\n",
       "ip               57906\n",
       "mac              57906\n",
       "mdns_services    30880\n",
       "services         53859\n",
       "ssdp             25350\n",
       "upnp             22881\n",
       "ssdp_words       25350\n",
       "upnp_words       22881\n",
       "mdns_words       30880\n",
       "mac_words        57724\n",
       "dtype: int64"
      ]
     },
     "execution_count": 6,
     "metadata": {},
     "output_type": "execute_result"
    }
   ],
   "source": [
    "from mac_vendor_lookup import AsyncMacLookup # for google colab remove the async and await bits\n",
    "\n",
    "mac = AsyncMacLookup()\n",
    "await mac.load_vendors()\n",
    "\n",
    "async def handle_mac(x):\n",
    "    d = {}\n",
    "    try:\n",
    "        d['mac'] = await mac.lookup(x)    \n",
    "    except KeyError:\n",
    "        pass\n",
    "    return d\n",
    "\n",
    "data['mac_words'] = pd.DataFrame([await handle_mac(x) for x in df['mac']])\n",
    "data['mac_words'] = data['mac_words'].replace('', np.nan)\n",
    "data.count()"
   ]
  },
  {
   "cell_type": "markdown",
   "metadata": {},
   "source": [
    "Ports (tcp & udp). We encode every port-protocol combination into a unique string to vectorize them later. It is also possible to just use \"protocol_port\", but I wanted to avoid using numbers here (they will be filtered out later)."
   ]
  },
  {
   "cell_type": "code",
   "execution_count": 7,
   "metadata": {
    "colab": {
     "base_uri": "https://localhost:8080/",
     "height": 272
    },
    "colab_type": "code",
    "executionInfo": {
     "elapsed": 252144,
     "status": "ok",
     "timestamp": 1569789858131,
     "user": {
      "displayName": "Martin Mielke",
      "photoUrl": "https://lh3.googleusercontent.com/a-/AAuE7mD2fVXZXI0vZQRhICA04SWEoz1vyJQjsUfxWPqP=s64",
      "userId": "08124188037398912377"
     },
     "user_tz": -120
    },
    "id": "YYsTFL1DcN7b",
    "outputId": "648e6270-e0fc-4742-fd2b-e6c620f85be5"
   },
   "outputs": [
    {
     "data": {
      "text/plain": [
       "device_class     57906\n",
       "device_id        57906\n",
       "dhcp             13505\n",
       "ip               57906\n",
       "mac              57906\n",
       "mdns_services    30880\n",
       "services         53859\n",
       "ssdp             25350\n",
       "upnp             22881\n",
       "ssdp_words       25350\n",
       "upnp_words       22881\n",
       "mdns_words       30880\n",
       "mac_words        57724\n",
       "port_words       49793\n",
       "dtype: int64"
      ]
     },
     "execution_count": 7,
     "metadata": {},
     "output_type": "execute_result"
    }
   ],
   "source": [
    "# generate map of random chars, hash would be good too, but we don't want numbers \n",
    "import random\n",
    "import string\n",
    "\n",
    "umap = {}\n",
    "for i in range(65535):\n",
    "  rnd = ''.join(random.choice(string.ascii_lowercase) for x in range(32))\n",
    "  umap[i] = rnd\n",
    "\n",
    "def handle_ports(x):\n",
    "    d = {}\n",
    "    if type(x) is list:\n",
    "        df = json_normalize(x)   \n",
    "        d['port_words'] = ''\n",
    "        for index, row in df.iterrows():\n",
    "            port = row['port']\n",
    "            proto = row['protocol']            \n",
    "            item = proto+umap[port]           \n",
    "            d['port_words'] += item + \" \"\n",
    "    return d\n",
    "\n",
    "data['port_words'] = pd.DataFrame([handle_ports(x) for x in df['services']])\n",
    "data['port_words'] = data['port_words'].replace('', np.nan)\n",
    "data.count()"
   ]
  },
  {
   "cell_type": "markdown",
   "metadata": {},
   "source": [
    "We have a lot of strings at this point and combine them into a single column (which will be vectorized later)."
   ]
  },
  {
   "cell_type": "code",
   "execution_count": 8,
   "metadata": {
    "colab": {
     "base_uri": "https://localhost:8080/",
     "height": 204
    },
    "colab_type": "code",
    "executionInfo": {
     "elapsed": 266423,
     "status": "ok",
     "timestamp": 1569789872418,
     "user": {
      "displayName": "Martin Mielke",
      "photoUrl": "https://lh3.googleusercontent.com/a-/AAuE7mD2fVXZXI0vZQRhICA04SWEoz1vyJQjsUfxWPqP=s64",
      "userId": "08124188037398912377"
     },
     "user_tz": -120
    },
    "id": "Huqu9jloHOpK",
    "outputId": "6ebd06f8-c596-4c0b-bd97-556fcd3fe1e9"
   },
   "outputs": [
    {
     "data": {
      "text/html": [
       "<div>\n",
       "<style scoped>\n",
       "    .dataframe tbody tr th:only-of-type {\n",
       "        vertical-align: middle;\n",
       "    }\n",
       "\n",
       "    .dataframe tbody tr th {\n",
       "        vertical-align: top;\n",
       "    }\n",
       "\n",
       "    .dataframe thead th {\n",
       "        text-align: right;\n",
       "    }\n",
       "</style>\n",
       "<table border=\"1\" class=\"dataframe\">\n",
       "  <thead>\n",
       "    <tr style=\"text-align: right;\">\n",
       "      <th></th>\n",
       "      <th>device_class</th>\n",
       "      <th>device_id</th>\n",
       "      <th>words</th>\n",
       "    </tr>\n",
       "  </thead>\n",
       "  <tbody>\n",
       "    <tr>\n",
       "      <th>0</th>\n",
       "      <td>IP_PHONE</td>\n",
       "      <td>5347ada9-925c-400e-8a7c-9aedd3c142f6</td>\n",
       "      <td>YEALINK(XIAMEN) NETWORK TECHNOLOGY CO.,LTD.tcp...</td>\n",
       "    </tr>\n",
       "    <tr>\n",
       "      <th>1</th>\n",
       "      <td>MEDIA_BOX</td>\n",
       "      <td>2717684b-3937-4644-a33a-33f4226c43ec</td>\n",
       "      <td>upnp:rootdevice http://192.168.1.109:8081/XD/2...</td>\n",
       "    </tr>\n",
       "    <tr>\n",
       "      <th>2</th>\n",
       "      <td>AUDIO</td>\n",
       "      <td>f1fc42f4-c794-4cc5-ac13-a5097d722d92</td>\n",
       "      <td>urn:schemas-upnp-org:service:RenderingControl:...</td>\n",
       "    </tr>\n",
       "    <tr>\n",
       "      <th>3</th>\n",
       "      <td>GAME_CONSOLE</td>\n",
       "      <td>74ab1b5b-3cb6-4aee-8362-f3b2f016574c</td>\n",
       "      <td>spotify-connect  tcp local AzureWave Technolo...</td>\n",
       "    </tr>\n",
       "    <tr>\n",
       "      <th>4</th>\n",
       "      <td>GENERIC_IOT</td>\n",
       "      <td>1fe43d89-329d-40fe-b948-d1cbe0fe6c96</td>\n",
       "      <td>Bematech International Corp.</td>\n",
       "    </tr>\n",
       "  </tbody>\n",
       "</table>\n",
       "</div>"
      ],
      "text/plain": [
       "   device_class                             device_id  \\\n",
       "0      IP_PHONE  5347ada9-925c-400e-8a7c-9aedd3c142f6   \n",
       "1     MEDIA_BOX  2717684b-3937-4644-a33a-33f4226c43ec   \n",
       "2         AUDIO  f1fc42f4-c794-4cc5-ac13-a5097d722d92   \n",
       "3  GAME_CONSOLE  74ab1b5b-3cb6-4aee-8362-f3b2f016574c   \n",
       "4   GENERIC_IOT  1fe43d89-329d-40fe-b948-d1cbe0fe6c96   \n",
       "\n",
       "                                               words  \n",
       "0  YEALINK(XIAMEN) NETWORK TECHNOLOGY CO.,LTD.tcp...  \n",
       "1  upnp:rootdevice http://192.168.1.109:8081/XD/2...  \n",
       "2  urn:schemas-upnp-org:service:RenderingControl:...  \n",
       "3   spotify-connect  tcp local AzureWave Technolo...  \n",
       "4                       Bematech International Corp.  "
      ]
     },
     "execution_count": 8,
     "metadata": {},
     "output_type": "execute_result"
    }
   ],
   "source": [
    "def combine_words(df):\n",
    "    # combine words into single words column\n",
    "    for index, row in df.iterrows():\n",
    "        row['words'] = \"\"\n",
    "        keys = ['ssdp_words','upnp_words','mdns_words','mac_words','port_words']\n",
    "        for key in keys:\n",
    "            entry = row[key]\n",
    "            if entry is not np.nan:\n",
    "              row['words'] += entry\n",
    "                \n",
    "data_comb = data.copy()\n",
    "data_comb['words'] = \"\"\n",
    "combine_words(data_comb)\n",
    "\n",
    "# drop all other now no longer required columns\n",
    "data_comb.drop(columns=['dhcp','ip','mac','mdns_services','services','ssdp','upnp','ssdp_words','upnp_words','mdns_words','mac_words','port_words'], inplace=True)\n",
    "data_comb.head()"
   ]
  },
  {
   "cell_type": "markdown",
   "metadata": {},
   "source": [
    "Natural Language processing is used on the single word column. This eliminates some words that mean similar things, but have slightly different spelling, numbers, special characters etc."
   ]
  },
  {
   "cell_type": "code",
   "execution_count": 9,
   "metadata": {
    "colab": {
     "base_uri": "https://localhost:8080/",
     "height": 204
    },
    "colab_type": "code",
    "executionInfo": {
     "elapsed": 289360,
     "status": "ok",
     "timestamp": 1569789895364,
     "user": {
      "displayName": "Martin Mielke",
      "photoUrl": "https://lh3.googleusercontent.com/a-/AAuE7mD2fVXZXI0vZQRhICA04SWEoz1vyJQjsUfxWPqP=s64",
      "userId": "08124188037398912377"
     },
     "user_tz": -120
    },
    "id": "kNLdUID2HOpM",
    "outputId": "115cfc6b-9d1d-46c3-e924-2f641b929ef1"
   },
   "outputs": [
    {
     "data": {
      "text/html": [
       "<div>\n",
       "<style scoped>\n",
       "    .dataframe tbody tr th:only-of-type {\n",
       "        vertical-align: middle;\n",
       "    }\n",
       "\n",
       "    .dataframe tbody tr th {\n",
       "        vertical-align: top;\n",
       "    }\n",
       "\n",
       "    .dataframe thead th {\n",
       "        text-align: right;\n",
       "    }\n",
       "</style>\n",
       "<table border=\"1\" class=\"dataframe\">\n",
       "  <thead>\n",
       "    <tr style=\"text-align: right;\">\n",
       "      <th></th>\n",
       "      <th>device_class</th>\n",
       "      <th>device_id</th>\n",
       "      <th>words</th>\n",
       "      <th>words_clean</th>\n",
       "    </tr>\n",
       "  </thead>\n",
       "  <tbody>\n",
       "    <tr>\n",
       "      <th>0</th>\n",
       "      <td>IP_PHONE</td>\n",
       "      <td>5347ada9-925c-400e-8a7c-9aedd3c142f6</td>\n",
       "      <td>YEALINK(XIAMEN) NETWORK TECHNOLOGY CO.,LTD.tcp...</td>\n",
       "      <td>yealink xiamen network technolog co ltd tcpbfu...</td>\n",
       "    </tr>\n",
       "    <tr>\n",
       "      <th>1</th>\n",
       "      <td>MEDIA_BOX</td>\n",
       "      <td>2717684b-3937-4644-a33a-33f4226c43ec</td>\n",
       "      <td>upnp:rootdevice http://192.168.1.109:8081/XD/2...</td>\n",
       "      <td>upnp rootdevic http xd c dd b b c e ec allegro...</td>\n",
       "    </tr>\n",
       "    <tr>\n",
       "      <th>2</th>\n",
       "      <td>AUDIO</td>\n",
       "      <td>f1fc42f4-c794-4cc5-ac13-a5097d722d92</td>\n",
       "      <td>urn:schemas-upnp-org:service:RenderingControl:...</td>\n",
       "      <td>urn schema upnp org servic renderingcontrol ht...</td>\n",
       "    </tr>\n",
       "    <tr>\n",
       "      <th>3</th>\n",
       "      <td>GAME_CONSOLE</td>\n",
       "      <td>74ab1b5b-3cb6-4aee-8362-f3b2f016574c</td>\n",
       "      <td>spotify-connect  tcp local AzureWave Technolo...</td>\n",
       "      <td>spotifi connect tcp local azurewav technolog i...</td>\n",
       "    </tr>\n",
       "    <tr>\n",
       "      <th>4</th>\n",
       "      <td>GENERIC_IOT</td>\n",
       "      <td>1fe43d89-329d-40fe-b948-d1cbe0fe6c96</td>\n",
       "      <td>Bematech International Corp.</td>\n",
       "      <td>bematech intern corp</td>\n",
       "    </tr>\n",
       "  </tbody>\n",
       "</table>\n",
       "</div>"
      ],
      "text/plain": [
       "   device_class                             device_id  \\\n",
       "0      IP_PHONE  5347ada9-925c-400e-8a7c-9aedd3c142f6   \n",
       "1     MEDIA_BOX  2717684b-3937-4644-a33a-33f4226c43ec   \n",
       "2         AUDIO  f1fc42f4-c794-4cc5-ac13-a5097d722d92   \n",
       "3  GAME_CONSOLE  74ab1b5b-3cb6-4aee-8362-f3b2f016574c   \n",
       "4   GENERIC_IOT  1fe43d89-329d-40fe-b948-d1cbe0fe6c96   \n",
       "\n",
       "                                               words  \\\n",
       "0  YEALINK(XIAMEN) NETWORK TECHNOLOGY CO.,LTD.tcp...   \n",
       "1  upnp:rootdevice http://192.168.1.109:8081/XD/2...   \n",
       "2  urn:schemas-upnp-org:service:RenderingControl:...   \n",
       "3   spotify-connect  tcp local AzureWave Technolo...   \n",
       "4                       Bematech International Corp.   \n",
       "\n",
       "                                         words_clean  \n",
       "0  yealink xiamen network technolog co ltd tcpbfu...  \n",
       "1  upnp rootdevic http xd c dd b b c e ec allegro...  \n",
       "2  urn schema upnp org servic renderingcontrol ht...  \n",
       "3  spotifi connect tcp local azurewav technolog i...  \n",
       "4                               bematech intern corp  "
      ]
     },
     "execution_count": 9,
     "metadata": {},
     "output_type": "execute_result"
    }
   ],
   "source": [
    "#https://towardsdatascience.com/multi-class-text-classification-with-sklearn-and-nltk-in-python-a-software-engineering-use-case-779d4a28ba5\n",
    "from nltk.corpus import stopwords\n",
    "from nltk.stem import PorterStemmer\n",
    "import re\n",
    "\n",
    "stemmer = PorterStemmer()\n",
    "words = stopwords.words(\"english\")\n",
    "\n",
    "data_comb['words_clean'] = data_comb['words'].apply(lambda x: \" \".join([stemmer.stem(i) for i in re.sub(\"[^a-zA-Z]\", \" \", x).split() if i not in words]).lower())\n",
    "data_comb.head()"
   ]
  },
  {
   "cell_type": "markdown",
   "metadata": {},
   "source": [
    "## Model\n",
    "\n",
    "The TfidfVectorizer is used vectorize the word column. Depending on the parameters this can be anything between 4k-30k features. Earlier I used SelectKBest to reduce the amount of features but it always made the result slightly worse, so I just took all features and ommitted this step.\n",
    "\n",
    "The data is fed into a simple neural network with 2 dense and a dropout layer. I noticed that the architecture does not matter much, as changing the amount of neurons or layers hardly influenced the result. "
   ]
  },
  {
   "cell_type": "code",
   "execution_count": 10,
   "metadata": {
    "colab": {
     "base_uri": "https://localhost:8080/",
     "height": 1000
    },
    "colab_type": "code",
    "executionInfo": {
     "elapsed": 264223,
     "status": "ok",
     "timestamp": 1569790175355,
     "user": {
      "displayName": "Martin Mielke",
      "photoUrl": "https://lh3.googleusercontent.com/a-/AAuE7mD2fVXZXI0vZQRhICA04SWEoz1vyJQjsUfxWPqP=s64",
      "userId": "08124188037398912377"
     },
     "user_tz": -120
    },
    "id": "a6Jg6G0rHOpP",
    "outputId": "9daab5fc-a72a-41ba-9755-644ec066c34d"
   },
   "outputs": [
    {
     "name": "stderr",
     "output_type": "stream",
     "text": [
      "Using TensorFlow backend.\n",
      "WARNING:tensorflow:From C:\\Users\\xct\\Anaconda3\\lib\\site-packages\\tensorflow\\python\\framework\\op_def_library.py:263: colocate_with (from tensorflow.python.framework.ops) is deprecated and will be removed in a future version.\n",
      "Instructions for updating:\n",
      "Colocations handled automatically by placer.\n",
      "WARNING:tensorflow:From C:\\Users\\xct\\Anaconda3\\lib\\site-packages\\keras\\backend\\tensorflow_backend.py:3445: calling dropout (from tensorflow.python.ops.nn_ops) with keep_prob is deprecated and will be removed in a future version.\n",
      "Instructions for updating:\n",
      "Please use `rate` instead of `keep_prob`. Rate should be set to `rate = 1 - keep_prob`.\n",
      "WARNING:tensorflow:From C:\\Users\\xct\\Anaconda3\\lib\\site-packages\\tensorflow\\python\\ops\\math_ops.py:3066: to_int32 (from tensorflow.python.ops.math_ops) is deprecated and will be removed in a future version.\n",
      "Instructions for updating:\n",
      "Use tf.cast instead.\n"
     ]
    },
    {
     "name": "stdout",
     "output_type": "stream",
     "text": [
      "Epoch 1/30\n",
      "52115/52115 [==============================] - 16s 313us/step - loss: 0.4812 - acc: 0.9569\n",
      "Epoch 2/30\n",
      "52115/52115 [==============================] - 14s 276us/step - loss: 0.0554 - acc: 0.9839\n",
      "Epoch 3/30\n",
      "52115/52115 [==============================] - 15s 280us/step - loss: 0.0391 - acc: 0.9858\n",
      "Epoch 4/30\n",
      "52115/52115 [==============================] - 14s 272us/step - loss: 0.0334 - acc: 0.9869\n",
      "Epoch 5/30\n",
      "52115/52115 [==============================] - 14s 272us/step - loss: 0.0301 - acc: 0.9871\n",
      "Epoch 6/30\n",
      "52115/52115 [==============================] - 14s 274us/step - loss: 0.0273 - acc: 0.9883\n",
      "Epoch 7/30\n",
      "52115/52115 [==============================] - 14s 277us/step - loss: 0.0264 - acc: 0.9880\n",
      "Epoch 8/30\n",
      "52115/52115 [==============================] - 15s 288us/step - loss: 0.0252 - acc: 0.9883\n",
      "Epoch 9/30\n",
      "52115/52115 [==============================] - 15s 287us/step - loss: 0.0247 - acc: 0.9885\n",
      "Epoch 10/30\n",
      "52115/52115 [==============================] - 15s 282us/step - loss: 0.0241 - acc: 0.9887\n",
      "Epoch 11/30\n",
      "52115/52115 [==============================] - 15s 282us/step - loss: 0.0236 - acc: 0.9890\n",
      "Epoch 12/30\n",
      "52115/52115 [==============================] - 15s 280us/step - loss: 0.0238 - acc: 0.9884\n",
      "Epoch 13/30\n",
      "52115/52115 [==============================] - 15s 280us/step - loss: 0.0230 - acc: 0.9892\n",
      "Epoch 14/30\n",
      "52115/52115 [==============================] - 15s 278us/step - loss: 0.0230 - acc: 0.9890\n",
      "Epoch 15/30\n",
      "52115/52115 [==============================] - 14s 278us/step - loss: 0.0224 - acc: 0.9893\n",
      "Epoch 16/30\n",
      "52115/52115 [==============================] - 14s 278us/step - loss: 0.0219 - acc: 0.9894\n",
      "Epoch 17/30\n",
      "52115/52115 [==============================] - 14s 276us/step - loss: 0.0224 - acc: 0.9888\n",
      "Epoch 18/30\n",
      "52115/52115 [==============================] - 14s 278us/step - loss: 0.0220 - acc: 0.9892\n",
      "Epoch 19/30\n",
      "52115/52115 [==============================] - 15s 287us/step - loss: 0.0221 - acc: 0.9891\n",
      "Epoch 20/30\n",
      "52115/52115 [==============================] - 14s 277us/step - loss: 0.0216 - acc: 0.9894\n",
      "Epoch 21/30\n",
      "52115/52115 [==============================] - 15s 281us/step - loss: 0.0218 - acc: 0.9894\n",
      "Epoch 22/30\n",
      "52115/52115 [==============================] - 15s 285us/step - loss: 0.0216 - acc: 0.9896\n",
      "Epoch 23/30\n",
      "52115/52115 [==============================] - 15s 282us/step - loss: 0.0213 - acc: 0.9892\n",
      "Epoch 24/30\n",
      "52115/52115 [==============================] - 14s 277us/step - loss: 0.0212 - acc: 0.9898\n",
      "Epoch 25/30\n",
      "52115/52115 [==============================] - 14s 278us/step - loss: 0.0212 - acc: 0.9898\n",
      "Epoch 26/30\n",
      "52115/52115 [==============================] - 14s 274us/step - loss: 0.0212 - acc: 0.9898\n",
      "Epoch 27/30\n",
      "52115/52115 [==============================] - 14s 274us/step - loss: 0.0213 - acc: 0.9899\n",
      "Epoch 28/30\n",
      "52115/52115 [==============================] - 14s 273us/step - loss: 0.0213 - acc: 0.9895\n",
      "Epoch 29/30\n",
      "52115/52115 [==============================] - 14s 276us/step - loss: 0.0211 - acc: 0.9895\n",
      "Epoch 30/30\n",
      "52115/52115 [==============================] - 14s 272us/step - loss: 0.0210 - acc: 0.9898\n",
      "57906\n",
      "5791/5791 [==============================] - 1s 253us/step\n",
      "                 precision    recall  f1-score   support\n",
      "\n",
      "          AUDIO       1.00      1.00      1.00       332\n",
      "   GAME_CONSOLE       0.99      0.99      0.99       229\n",
      "    GENERIC_IOT       1.00      1.00      1.00       295\n",
      "HOME_AUTOMATION       1.00      1.00      1.00      1226\n",
      "       IP_PHONE       1.00      1.00      1.00       519\n",
      "      MEDIA_BOX       0.99      0.93      0.96       649\n",
      "         MOBILE       0.86      0.97      0.91       130\n",
      "            NAS       1.00      1.00      1.00       269\n",
      "             PC       0.99      0.97      0.98       657\n",
      "        PRINTER       1.00      1.00      1.00       434\n",
      "   SURVEILLANCE       0.99      0.98      0.99       183\n",
      "             TV       1.00      0.99      1.00       549\n",
      "VOICE_ASSISTANT       0.88      0.99      0.93       319\n",
      "\n",
      "       accuracy                           0.99      5791\n",
      "      macro avg       0.98      0.99      0.98      5791\n",
      "   weighted avg       0.99      0.99      0.99      5791\n",
      "\n",
      "5791/5791 [==============================] - 1s 254us/step\n",
      "[[ 332    0    0    0    0    0    0    0    0    0    0    0    0]\n",
      " [   0  226    0    0    0    0    0    0    3    0    0    0    0]\n",
      " [   0    0  294    0    0    1    0    0    0    0    0    0    0]\n",
      " [   0    0    1 1223    0    0    0    0    1    0    1    0    0]\n",
      " [   0    0    0    0  519    0    0    0    0    0    0    0    0]\n",
      " [   0    0    0    0    0  605    0    0    0    0    0    2   42]\n",
      " [   0    0    0    0    0    1  126    0    3    0    0    0    0]\n",
      " [   0    0    0    0    0    0    0  269    0    0    0    0    0]\n",
      " [   0    2    0    0    0    0   18    0  637    0    0    0    0]\n",
      " [   0    0    0    0    0    0    0    0    0  434    0    0    0]\n",
      " [   0    0    0    3    0    0    0    0    0    0  180    0    0]\n",
      " [   0    0    0    0    0    2    0    0    1    0    0  546    0]\n",
      " [   0    0    0    0    0    1    2    0    0    0    0    0  316]]\n",
      "5791/5791 [==============================] - 1s 258us/step\n",
      "0.9854947332067\n"
     ]
    }
   ],
   "source": [
    "from sklearn.model_selection import train_test_split\n",
    "#from sklearn.feature_selection import SelectKBest, chi2\n",
    "from sklearn.pipeline import Pipeline\n",
    "from sklearn.metrics import classification_report, confusion_matrix, accuracy_score\n",
    "from sklearn.feature_extraction.text import TfidfVectorizer,TfidfTransformer\n",
    "from keras.wrappers.scikit_learn import KerasClassifier\n",
    "from keras.models import Sequential\n",
    "from keras.layers import Dense, Dropout\n",
    "from keras.optimizers import Adam\n",
    "from keras.models import Sequential\n",
    "from keras import layers\n",
    "\n",
    "def create_model():\n",
    "    model = Sequential()\n",
    "    model.add(Dense(100, input_dim=31950, activation='relu'))\n",
    "    model.add(Dropout(0.4))\n",
    "    model.add(Dense(13, activation='softmax'))\n",
    "    # Compile model\n",
    "    optimizer = Adam(lr=0.001)\n",
    "    model.compile(loss='categorical_crossentropy', optimizer=optimizer, metrics=['accuracy'])  \n",
    "    return model\n",
    "\n",
    "# the ngram range increases the amount of features a lot (4k, 15k, 31k,..), it seems to help a little to have it on 1,2 or 2,3\n",
    "vectorizer = TfidfVectorizer(min_df= 2, stop_words=\"english\", sublinear_tf=True, norm='l2', ngram_range=(1, 3))\n",
    "\n",
    "X = data_comb['words_clean']\n",
    "Y = data_comb['device_class']\n",
    "\n",
    "X.head()\n",
    "\n",
    "# have to set a fixed random state so we can enter the input_dim in the model\n",
    "# test_size=0.1, random_state=0 gave the best result so far\n",
    "X_train, X_test, y_train, y_test = train_test_split(X, Y, test_size=0.1, random_state=0)\n",
    "\n",
    "clf = KerasClassifier(build_fn=create_model, epochs=30, batch_size=128, verbose=1)\n",
    "pipeline = Pipeline([('vect', vectorizer),\n",
    "                     #('chi',  SelectKBest(chi2, 'k='all')),\n",
    "                     ('clf',  clf)])\n",
    "\n",
    "model = pipeline.fit(X_train, y_train)\n",
    "\n",
    "print(len(X))\n",
    "print(classification_report(y_test, model.predict(X_test)))\n",
    "print(confusion_matrix(y_test, model.predict(X_test)))\n",
    "print(accuracy_score(y_test, model.predict(X_test)))"
   ]
  },
  {
   "cell_type": "code",
   "execution_count": 11,
   "metadata": {},
   "outputs": [
    {
     "name": "stdout",
     "output_type": "stream",
     "text": [
      "_________________________________________________________________\n",
      "Layer (type)                 Output Shape              Param #   \n",
      "=================================================================\n",
      "dense_1 (Dense)              (None, 100)               3195100   \n",
      "_________________________________________________________________\n",
      "dropout_1 (Dropout)          (None, 100)               0         \n",
      "_________________________________________________________________\n",
      "dense_2 (Dense)              (None, 13)                1313      \n",
      "=================================================================\n",
      "Total params: 3,196,413\n",
      "Trainable params: 3,196,413\n",
      "Non-trainable params: 0\n",
      "_________________________________________________________________\n"
     ]
    }
   ],
   "source": [
    "clf.model.summary()"
   ]
  },
  {
   "cell_type": "markdown",
   "metadata": {
    "colab_type": "text",
    "id": "wXPFylI1HOpR"
   },
   "source": [
    "### Create kaggle submission"
   ]
  },
  {
   "cell_type": "code",
   "execution_count": 12,
   "metadata": {
    "colab": {
     "base_uri": "https://localhost:8080/",
     "height": 68
    },
    "colab_type": "code",
    "executionInfo": {
     "elapsed": 377517,
     "status": "ok",
     "timestamp": 1569790567454,
     "user": {
      "displayName": "Martin Mielke",
      "photoUrl": "https://lh3.googleusercontent.com/a-/AAuE7mD2fVXZXI0vZQRhICA04SWEoz1vyJQjsUfxWPqP=s64",
      "userId": "08124188037398912377"
     },
     "user_tz": -120
    },
    "id": "cKgwFX2UHOpS",
    "outputId": "2cdbf52b-99dc-4258-9fca-3b96c9279cf0"
   },
   "outputs": [
    {
     "data": {
      "text/plain": [
       "device_id    77777\n",
       "words        77777\n",
       "dtype: int64"
      ]
     },
     "execution_count": 12,
     "metadata": {},
     "output_type": "execute_result"
    }
   ],
   "source": [
    "# Load Data\n",
    "df = None\n",
    "with open('test.json', 'r') as f:\n",
    "     df = pd.read_json(f.read(), lines=True)\n",
    "data = df\n",
    "# Prepare Data\n",
    "data['ssdp_words'] = pd.DataFrame([handle_ssdp(x) for x in df['ssdp']])\n",
    "data['ssdp_words'] = data['ssdp_words'].replace('', np.nan)\n",
    "data['upnp_words'] = pd.DataFrame([handle_upnp(x) for x in df['upnp']])\n",
    "data['upnp_words'] = data['upnp_words'].replace('', np.nan)\n",
    "data['mdns_words'] = pd.DataFrame([handle_mdns(x) for x in df['mdns_services']])\n",
    "data['mdns_words'] = data['mdns_words'].replace('', np.nan)\n",
    "data['mac_words'] = pd.DataFrame([await handle_mac(x) for x in df['mac']])\n",
    "data['mac_words'] = data['mac_words'].replace('', np.nan)\n",
    "data['port_words'] = pd.DataFrame([handle_ports(x) for x in df['services']])\n",
    "data['port_words'] = data['port_words'].replace('', np.nan)\n",
    "data.count()\n",
    "\n",
    "data_comb = data.copy()\n",
    "data_comb['words'] = \"\"\n",
    "combine_words(data_comb)\n",
    "\n",
    "# drop all other now no longer required columns\n",
    "data_comb.drop(columns=['dhcp','ip','mac','mdns_services','services','ssdp','upnp','ssdp_words','upnp_words','mdns_words','mac_words','port_words'], inplace=True)\n",
    "data_comb.count()"
   ]
  },
  {
   "cell_type": "code",
   "execution_count": 13,
   "metadata": {
    "colab": {
     "base_uri": "https://localhost:8080/",
     "height": 85
    },
    "colab_type": "code",
    "executionInfo": {
     "elapsed": 408324,
     "status": "ok",
     "timestamp": 1569790598483,
     "user": {
      "displayName": "Martin Mielke",
      "photoUrl": "https://lh3.googleusercontent.com/a-/AAuE7mD2fVXZXI0vZQRhICA04SWEoz1vyJQjsUfxWPqP=s64",
      "userId": "08124188037398912377"
     },
     "user_tz": -120
    },
    "id": "pR1l-OUwJLxO",
    "outputId": "2e6ea840-c496-4864-93ac-10cc9e0ef59f"
   },
   "outputs": [
    {
     "data": {
      "text/plain": [
       "device_id      77777\n",
       "words          77777\n",
       "words_clean    77777\n",
       "dtype: int64"
      ]
     },
     "execution_count": 13,
     "metadata": {},
     "output_type": "execute_result"
    }
   ],
   "source": [
    "from nltk.corpus import stopwords\n",
    "from nltk.stem import PorterStemmer\n",
    "import re\n",
    "\n",
    "stemmer = PorterStemmer()\n",
    "words = stopwords.words(\"english\")\n",
    "\n",
    "data_comb['words_clean'] = data_comb['words'].apply(lambda x: \" \".join([stemmer.stem(i) for i in re.sub(\"[^a-zA-Z]\", \" \", x).split() if i not in words]).lower())\n",
    "data_comb.count()"
   ]
  },
  {
   "cell_type": "code",
   "execution_count": 14,
   "metadata": {
    "colab": {
     "base_uri": "https://localhost:8080/",
     "height": 136
    },
    "colab_type": "code",
    "executionInfo": {
     "elapsed": 425931,
     "status": "ok",
     "timestamp": 1569790616271,
     "user": {
      "displayName": "Martin Mielke",
      "photoUrl": "https://lh3.googleusercontent.com/a-/AAuE7mD2fVXZXI0vZQRhICA04SWEoz1vyJQjsUfxWPqP=s64",
      "userId": "08124188037398912377"
     },
     "user_tz": -120
    },
    "id": "XgJT7lRnHOpU",
    "outputId": "5e6a6eb7-b43a-444c-80ca-b9b12d243b4a"
   },
   "outputs": [
    {
     "name": "stdout",
     "output_type": "stream",
     "text": [
      "77777/77777 [==============================] - 19s 238us/step\n",
      "77777\n",
      "device_id      0\n",
      "words          0\n",
      "words_clean    0\n",
      "Predicted      0\n",
      "dtype: int64\n"
     ]
    }
   ],
   "source": [
    "# Predict\n",
    "X = data_comb['words_clean']\n",
    "y_pred = model.predict(X)\n",
    "result = data_comb.copy()\n",
    "result['Predicted'] = y_pred\n",
    "print(len(result))\n",
    "print(result.isnull().sum())"
   ]
  },
  {
   "cell_type": "code",
   "execution_count": 15,
   "metadata": {
    "colab": {
     "base_uri": "https://localhost:8080/",
     "height": 85
    },
    "colab_type": "code",
    "executionInfo": {
     "elapsed": 426119,
     "status": "ok",
     "timestamp": 1569790616610,
     "user": {
      "displayName": "Martin Mielke",
      "photoUrl": "https://lh3.googleusercontent.com/a-/AAuE7mD2fVXZXI0vZQRhICA04SWEoz1vyJQjsUfxWPqP=s64",
      "userId": "08124188037398912377"
     },
     "user_tz": -120
    },
    "id": "A7KtTzOHHOpW",
    "outputId": "a7df2308-fe18-497e-b481-1404c633b04b"
   },
   "outputs": [
    {
     "name": "stdout",
     "output_type": "stream",
     "text": [
      "Id           0\n",
      "Predicted    0\n",
      "dtype: int64\n",
      "77777\n"
     ]
    }
   ],
   "source": [
    "final = result.filter(['device_id', 'Predicted'])\n",
    "final.rename(columns={\"device_id\": \"Id\"},inplace=True)\n",
    "print(final.isnull().sum())\n",
    "print(len(final))\n",
    "final.head()\n",
    "# save\n",
    "final.to_csv('submission.csv', index=None, header=True)"
   ]
  },
  {
   "cell_type": "code",
   "execution_count": null,
   "metadata": {},
   "outputs": [],
   "source": []
  }
 ],
 "metadata": {
  "accelerator": "GPU",
  "colab": {
   "collapsed_sections": [],
   "name": "nmap_device_classifier_10.ipynb",
   "provenance": [],
   "toc_visible": true
  },
  "kernelspec": {
   "display_name": "Python 3",
   "language": "python",
   "name": "python3"
  },
  "language_info": {
   "codemirror_mode": {
    "name": "ipython",
    "version": 3
   },
   "file_extension": ".py",
   "mimetype": "text/x-python",
   "name": "python",
   "nbconvert_exporter": "python",
   "pygments_lexer": "ipython3",
   "version": "3.7.3"
  }
 },
 "nbformat": 4,
 "nbformat_minor": 1
}
